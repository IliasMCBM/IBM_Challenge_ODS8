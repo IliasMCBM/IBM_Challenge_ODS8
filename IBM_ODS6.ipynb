{
 "cells": [
  {
   "cell_type": "code",
   "execution_count": 8,
   "metadata": {},
   "outputs": [],
   "source": [
    "%%capture\n",
    "%pip install -r ./requirements.txt"
   ]
  },
  {
   "cell_type": "code",
   "execution_count": 2,
   "metadata": {},
   "outputs": [
    {
     "name": "stdout",
     "output_type": "stream",
     "text": [
      "1.26.4\n"
     ]
    }
   ],
   "source": [
    "import numpy as np\n",
    "print(np.__version__)"
   ]
  },
  {
   "cell_type": "code",
   "execution_count": 116,
   "metadata": {},
   "outputs": [],
   "source": [
    "import os\n",
    "import re\n",
    "from dotenv import load_dotenv\n",
    "from ibm_watson_machine_learning.foundation_models import Model\n",
    "from ibm_watson_machine_learning.metanames import GenTextParamsMetaNames as MetaNames\n",
    "from langgraph.graph import StateGraph, START, END, MessagesState\n",
    "from typing import TypedDict"
   ]
  },
  {
   "cell_type": "code",
   "execution_count": 74,
   "metadata": {},
   "outputs": [],
   "source": [
    "class StateSchema:\n",
    "    def __init__(self, input: str = \"\", agent: str = \"\", output: str = \"\"):\n",
    "        self.input = input\n",
    "        self.agent = agent\n",
    "        self.output = output"
   ]
  },
  {
   "cell_type": "code",
   "execution_count": 75,
   "metadata": {},
   "outputs": [],
   "source": [
    "load_dotenv()\n",
    "model_id = \"ibm/granite-34b-code-instruct\" \n",
    "credentials = {\n",
    "    \"apikey\": os.getenv(\"WATSONX_API_KEY\"),\n",
    "    \"url\": \"https://us-south.ml.cloud.ibm.com\"\n",
    "}\n",
    "\n",
    "model = Model(\n",
    "    model_id=model_id,\n",
    "    credentials=credentials,\n",
    "    project_id=os.getenv(\"WATSONX_PROJECT_ID\")\n",
    ")"
   ]
  },
  {
   "cell_type": "code",
   "execution_count": 145,
   "metadata": {},
   "outputs": [],
   "source": [
    "def modelo_orquestador(state: StateSchema):\n",
    "    # print('Paso por orquestador')\n",
    "    prompt = f\"\"\"\n",
    "    You are an AI orchestrator agent, and your job is to determine which agent to forward the input to. You will have two possible agents to pass the input to:\n",
    "    \n",
    "    - Translator: This agent will be responsible for translating the text into Spanish if necessary.\n",
    "    - General: When you don't see any specific agent to handle the task, forward the input to this one.\n",
    "    \n",
    "    The way to choose the agent is simple: just repeat the input given to you but with a word in front of the input depending on which agent you should forward it to:\n",
    "    - \"translator\" when it goes to the translator agent\n",
    "    - \"general\" for the general agent.\n",
    "\n",
    "    Input:{state.input}\\n\\nAssistant:\n",
    "    \"\"\"\n",
    "    parameters = {\n",
    "\t\tMetaNames.DECODING_METHOD: \"greedy\",\n",
    "\t\tMetaNames.MAX_NEW_TOKENS: 100,\n",
    "\t\tMetaNames.MIN_NEW_TOKENS: 1,\n",
    "\t\tMetaNames.STOP_SEQUENCES: [\"Input:\", \"\\n\\n\"]\n",
    "\t}\n",
    "\n",
    "    response = model.generate(prompt, parameters)\n",
    "\n",
    "    generated_text = response['results'][0]['generated_text'].strip()\n",
    "\n",
    "    if \"translator\" in generated_text.lower():\n",
    "        # print('Voy a translator')\n",
    "        state.agent = \"translator\"\n",
    "        patron = r\"^translator:\\s*\"\n",
    "        generated_text = re.sub(patron, \"\", generated_text)\n",
    "    else:\n",
    "        # print('Voy a general')\n",
    "        state.agent = \"general\"\n",
    "        patron = r\"^general:\\s*\"\n",
    "        generated_text = re.sub(patron, \"\", generated_text)\n",
    "    \n",
    "    # print(f'Texto del orquestador: {generated_text}')\n",
    "    state.input = generated_text\n",
    "    return state"
   ]
  },
  {
   "cell_type": "code",
   "execution_count": 146,
   "metadata": {},
   "outputs": [],
   "source": [
    "def modelo_traductor(state: StateSchema):\n",
    "    # print('Paso por traductor')\n",
    "    # prompt = f\"\"\"\n",
    "    # You are an AI translator agent, and your job is to translate into Spanish all the input you receive.\n",
    "    # The first word of each input you receive will be \"translator,\" and you should disregard that word, translating everything in the input starting from that word.\n",
    "\n",
    "    # Input:{state.input}\\n\\nAssistant:\n",
    "    # \"\"\"\n",
    "    \n",
    "    prompt = f\"\"\"\n",
    "    Translate to Spanish\n",
    "    English text: '{state.input}',\n",
    "    Spanish text:\n",
    "    \"\"\"\n",
    "\n",
    "    parameters = {\n",
    "\t\tMetaNames.DECODING_METHOD: \"greedy\",\n",
    "\t\tMetaNames.MAX_NEW_TOKENS: 100,\n",
    "\t\tMetaNames.MIN_NEW_TOKENS: 1,\n",
    "\t\tMetaNames.STOP_SEQUENCES: [\"Input:\", \"\\n\\n\"]\n",
    "\t}\n",
    "\n",
    "    response = model.generate(prompt, parameters)\n",
    "\n",
    "    generated_text = response['results'][0]['generated_text'].strip()\n",
    "    # print(f'Texto generado en el traductor: {generated_text}')\n",
    "    state.output = generated_text\n",
    "    return state"
   ]
  },
  {
   "cell_type": "code",
   "execution_count": 150,
   "metadata": {},
   "outputs": [],
   "source": [
    "def modelo_general(state: StateSchema):\n",
    "    # print('Paso por general')\n",
    "    prompt = f\"\"\"\n",
    "    You are a general AI agent.\n",
    "    The first word of each input you receive will be \"general,\" and you should disregard that word, providing a response for the input starting from that word.\n",
    "\n",
    "    Input:{state.input}\\n\\nAssistant:\n",
    "    \"\"\"\n",
    "\n",
    "    parameters = {\n",
    "\t\tMetaNames.DECODING_METHOD: \"greedy\",\n",
    "\t\tMetaNames.MAX_NEW_TOKENS: 100,\n",
    "\t\tMetaNames.MIN_NEW_TOKENS: 1,\n",
    "\t\tMetaNames.STOP_SEQUENCES: [\"Input:\", \"\\n\\n\"]\n",
    "\t}\n",
    "\n",
    "    response = model.generate(prompt, parameters)\n",
    "\n",
    "    generated_text = response['results'][0]['generated_text'].strip()\n",
    "    \n",
    "    state.output = generated_text\n",
    "    return state"
   ]
  },
  {
   "cell_type": "code",
   "execution_count": 151,
   "metadata": {},
   "outputs": [],
   "source": [
    "def decidir_transicion(state):\n",
    "    print(f'State agent: {state.agent}')\n",
    "    return \"traductor\" if state.agent == \"translator\" else \"general\""
   ]
  },
  {
   "cell_type": "code",
   "execution_count": null,
   "metadata": {},
   "outputs": [
    {
     "name": "stdout",
     "output_type": "stream",
     "text": [
      "State agent: translator\n",
      "'¿Hay agua fría?'\n",
      "State agent: general\n",
      "9\n"
     ]
    }
   ],
   "source": [
    "grafo = StateGraph(state_schema=StateSchema)\n",
    "\n",
    "\n",
    "grafo.add_node(\"clasificar_intencion\", modelo_orquestador)\n",
    "grafo.add_node(\"traductor\", modelo_traductor)\n",
    "grafo.add_node(\"general\", modelo_general)\n",
    "\n",
    "grafo.add_edge(START, \"clasificar_intencion\")\n",
    "grafo.add_conditional_edges(\"clasificar_intencion\", decidir_transicion)\n",
    "grafo.add_edge(\"traductor\", END)\n",
    "grafo.add_edge(\"general\", END)\n",
    "\n",
    "agente = grafo.compile()\n",
    "\n",
    "\n",
    "estado = agente.invoke(StateSchema('Hi, can you translate this sentence into Spanish? Is there cold water?'))\n",
    "print(estado.output)\n",
    "estado = agente.invoke(StateSchema('What is seven plus two'))\n",
    "print(estado.output)"
   ]
  },
  {
   "cell_type": "code",
   "execution_count": null,
   "metadata": {},
   "outputs": [],
   "source": []
  }
 ],
 "metadata": {
  "kernelspec": {
   "display_name": ".venv",
   "language": "python",
   "name": "python3"
  },
  "language_info": {
   "codemirror_mode": {
    "name": "ipython",
    "version": 3
   },
   "file_extension": ".py",
   "mimetype": "text/x-python",
   "name": "python",
   "nbconvert_exporter": "python",
   "pygments_lexer": "ipython3",
   "version": "3.9.6"
  }
 },
 "nbformat": 4,
 "nbformat_minor": 2
}
