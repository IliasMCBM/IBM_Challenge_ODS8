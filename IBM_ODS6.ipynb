{
 "cells": [
  {
   "cell_type": "code",
   "execution_count": 8,
   "metadata": {},
   "outputs": [],
   "source": [
    "%%capture\n",
    "%pip install -r ./requirements.txt"
   ]
  },
  {
   "cell_type": "code",
   "execution_count": 2,
   "metadata": {},
   "outputs": [
    {
     "name": "stdout",
     "output_type": "stream",
     "text": [
      "1.26.4\n"
     ]
    }
   ],
   "source": [
    "import numpy as np\n",
    "print(np.__version__)"
   ]
  },
  {
   "cell_type": "code",
   "execution_count": 3,
   "metadata": {},
   "outputs": [],
   "source": [
    "import os\n",
    "from dotenv import load_dotenv\n",
    "from ibm_watson_machine_learning.foundation_models import Model\n",
    "from ibm_watson_machine_learning.metanames import GenTextParamsMetaNames as MetaNames"
   ]
  },
  {
   "cell_type": "code",
   "execution_count": 4,
   "metadata": {},
   "outputs": [],
   "source": [
    "def chat_with_bot(model):\n",
    "    print(\"Welcome to the WatsonX Chatbot! (Type 'quit' to exit)\")\n",
    "    print(\"-\" * 50)\n",
    "    \n",
    "    while True:\n",
    "        user_input = input(\"\\nYou: \").strip()\n",
    "        \n",
    "        if user_input.lower() == 'quit':\n",
    "            print(\"\\nGoodbye!\")\n",
    "            break\n",
    "            \n",
    "    \n",
    "        prompt = f\"Human: {user_input}\\n\\nAssistant:\"\n",
    "        \n",
    "    \n",
    "        parameters = {\n",
    "            MetaNames.DECODING_METHOD: \"greedy\",\n",
    "            MetaNames.MAX_NEW_TOKENS: 100,\n",
    "            MetaNames.MIN_NEW_TOKENS: 1,\n",
    "            MetaNames.STOP_SEQUENCES: [\"Human:\", \"\\n\\n\"]\n",
    "        }\n",
    "        \n",
    "        try:\n",
    "            response = model.generate(prompt, parameters)\n",
    "        \n",
    "            generated_text = response['results'][0]['generated_text'].strip()\n",
    "            print(\"\\nBot:\", generated_text)\n",
    "        except Exception as e:\n",
    "            print(f\"\\nError: {str(e)}\")"
   ]
  },
  {
   "cell_type": "code",
   "execution_count": 5,
   "metadata": {},
   "outputs": [
    {
     "name": "stdout",
     "output_type": "stream",
     "text": [
      "Welcome to the WatsonX Chatbot! (Type 'quit' to exit)\n",
      "--------------------------------------------------\n",
      "\n",
      "Bot: Hola! En qué puedo ayudarte hoy?\n",
      "\n",
      "Goodbye!\n"
     ]
    }
   ],
   "source": [
    "load_dotenv()\n",
    "\n",
    "model_id = \"ibm/granite-34b-code-instruct\" \n",
    "credentials = {\n",
    "    \"apikey\": os.getenv(\"WATSONX_API_KEY\"),\n",
    "    \"url\": \"https://us-south.ml.cloud.ibm.com\"\n",
    "}\n",
    "\n",
    "model = Model(\n",
    "    model_id=model_id,\n",
    "    credentials=credentials,\n",
    "    project_id=os.getenv(\"WATSONX_PROJECT_ID\")\n",
    ")\n",
    "chat_with_bot(model) "
   ]
  },
  {
   "cell_type": "code",
   "execution_count": null,
   "metadata": {},
   "outputs": [],
   "source": []
  }
 ],
 "metadata": {
  "kernelspec": {
   "display_name": ".venv",
   "language": "python",
   "name": "python3"
  },
  "language_info": {
   "codemirror_mode": {
    "name": "ipython",
    "version": 3
   },
   "file_extension": ".py",
   "mimetype": "text/x-python",
   "name": "python",
   "nbconvert_exporter": "python",
   "pygments_lexer": "ipython3",
   "version": "3.9.6"
  }
 },
 "nbformat": 4,
 "nbformat_minor": 2
}
