{
 "cells": [
  {
   "cell_type": "code",
   "execution_count": null,
   "metadata": {},
   "outputs": [],
   "source": [
    "import re\n",
    "import os\n",
    "import faiss\n",
    "from langchain import hub\n",
    "from typing import TypedDict\n",
    "from dotenv import load_dotenv\n",
    "from langchain_ibm import ChatWatsonx\n",
    "from langgraph.graph import StateGraph\n",
    "from langchain_ibm import WatsonxEmbeddings\n",
    "from typing_extensions import TypedDict\n",
    "from langgraph.graph import START, StateGraph, END\n",
    "from langchain_community.vectorstores import FAISS\n",
    "from langchain.memory import ConversationBufferMemory\n",
    "from langchain_community.document_loaders.pdf import PyPDFLoader\n",
    "from langchain_text_splitters import RecursiveCharacterTextSplitter\n",
    "from langchain_community.docstore.in_memory import InMemoryDocstore"
   ]
  },
  {
   "cell_type": "code",
   "execution_count": 2,
   "metadata": {},
   "outputs": [
    {
     "name": "stderr",
     "output_type": "stream",
     "text": [
      "/Users/jose/Desktop/IBM_Challenge_ODS6/.venv/lib/python3.10/site-packages/langsmith/client.py:277: LangSmithMissingAPIKeyWarning: API key must be provided when using hosted LangSmith API\n",
      "  warnings.warn(\n",
      "/var/folders/5f/np59t90s5b3df6g26zt2n8qc0000gn/T/ipykernel_52683/1798887284.py:38: LangChainDeprecationWarning: Please see the migration guide at: https://python.langchain.com/docs/versions/migrating_memory/\n",
      "  memory = ConversationBufferMemory(memory_key=\"chat_history\")\n"
     ]
    }
   ],
   "source": [
    "load_dotenv()\n",
    "model_id = \"ibm/granite-3-8b-instruct\"\n",
    "credentials = {\n",
    "    \"apikey\": os.getenv(\"WATSONX_API_KEY\"),\n",
    "    \"url\": \"https://us-south.ml.cloud.ibm.com\"\n",
    "}\n",
    "\n",
    "model = ChatWatsonx(\n",
    "    model_id=model_id,\n",
    "    apikey=os.getenv(\"WATSONX_API_KEY\"),\n",
    "    url= \"https://us-south.ml.cloud.ibm.com\",\n",
    "    project_id=os.getenv(\"WATSONX_PROJECT_ID\")\n",
    ")\n",
    "\n",
    "embeddings = WatsonxEmbeddings(\n",
    "    model_id=\"ibm/granite-embedding-278m-multilingual\",\n",
    "    apikey=os.getenv(\"WATSONX_API_KEY\"),\n",
    "    url=\"https://us-south.ml.cloud.ibm.com\",\n",
    "    project_id=os.getenv(\"WATSONX_PROJECT_ID\")\n",
    ")\n",
    "embedding_dim = len(embeddings.embed_query(\"hello world\"))\n",
    "index = faiss.IndexFlatL2(embedding_dim)\n",
    "\n",
    "vector_store = FAISS(\n",
    "    embedding_function=embeddings,\n",
    "    index=index,\n",
    "    docstore=InMemoryDocstore(),\n",
    "    index_to_docstore_id={},\n",
    ")\n",
    "\n",
    "class StateSchema(TypedDict):\n",
    "    agent: str\n",
    "    question: str\n",
    "    input: str\n",
    "    answer: str\n",
    "\n",
    "prompt = hub.pull(\"rlm/rag-prompt\")\n",
    "memory = ConversationBufferMemory(memory_key=\"chat_history\")"
   ]
  },
  {
   "cell_type": "code",
   "execution_count": 3,
   "metadata": {},
   "outputs": [],
   "source": [
    "def pdf_loader(file_paths):\n",
    "    all_docs = []\n",
    "    for file_path in file_paths:\n",
    "        try:\n",
    "            loader = PyPDFLoader(\n",
    "                file_path=file_path,\n",
    "                extract_images=False\n",
    "            )\n",
    "            \n",
    "            docs = list(loader.lazy_load())\n",
    "            all_docs.extend(docs)\n",
    "    \n",
    "        except Exception as e:\n",
    "            print(f\"Error loading PDF {file_path}: {e}\")\n",
    "            \n",
    "    text_splitter = RecursiveCharacterTextSplitter(\n",
    "        chunk_size=1000,       # tamaño de cada fragmento (caracteres)\n",
    "        chunk_overlap=200,     # solapamiento entre fragmentos (caracteres)\n",
    "        add_start_index=True,  # guarda el índice de inicio en el documento original\n",
    "    )\n",
    "    \n",
    "    return text_splitter.split_documents(all_docs)\n",
    "\n",
    "# List of PDF files to load\n",
    "pdf_files = [\n",
    "    \"pdfs/hoja_infor_sol_extraccion_aridos.pdf\",\n",
    "    \"pdfs/12informediagnostico_esp_tcm30-543628.pdf\", \n",
    "    \"pdfs/BOE-A-2024-21701.pdf\"\n",
    "]\n",
    "\n",
    "# Load PDFs\n",
    "_ = vector_store.add_documents(documents=pdf_loader(pdf_files))\n"
   ]
  },
  {
   "cell_type": "code",
   "execution_count": 4,
   "metadata": {},
   "outputs": [],
   "source": [
    "def orchestrator(state: StateSchema):\n",
    "\t\n",
    "    # print('Paso por orquestador')\n",
    "    orch_prompt = f\"\"\"\n",
    "    You are an AI orchestrator agent, and your job is to determine which agent to forward the input to. You will have two possible agents to pass the input to:          \n",
    "    - Attorney: This agent will be responsible for searching in our documents about legal issues related to water if necessary.     \n",
    "    - General: When you don't see any specific agent to handle the task, forward the input to this one.          \n",
    "    The way to choose an agent is simple: just repeat the input given to you but with a word in front of the input depending on which agent you should forward it to:     \n",
    "    - \"attorney\" when it goes to the translator agent     \n",
    "    - \"general\" for the general agent\n",
    "    \n",
    "    {str(memory.load_memory_variables({}))}\n",
    "    \n",
    "    New human question: {state['question']}\n",
    "    Response:\"\"\"\n",
    "    \n",
    "    response = model.invoke(orch_prompt)\n",
    "    print(memory.load_memory_variables({}))\n",
    "\n",
    "    generated_text = response.content\n",
    "\n",
    "    if \"attorney\" in generated_text.lower():\n",
    "        print('Voy a attorney')\n",
    "        estado = \"attorney\"\n",
    "        print('paso por aqui sin errores')\n",
    "        patron = r\"^attorney:\\s*\"\n",
    "        generated_text = re.sub(patron, \"\", generated_text)\n",
    "    else:\n",
    "        print('Voy a general')\n",
    "        estado = \"general\"\n",
    "        patron = r\"^general:\\s*\"\n",
    "        generated_text = re.sub(patron, \"\", generated_text)\n",
    "    \n",
    "    return {\"input\": generated_text, \"agent\": estado}"
   ]
  },
  {
   "cell_type": "code",
   "execution_count": 5,
   "metadata": {},
   "outputs": [],
   "source": [
    "def attorney_agent(state: StateSchema):\n",
    "    retrieved_docs = vector_store.similarity_search(state[\"input\"])\n",
    "    docs_content = \"\\n\\n\".join(doc.page_content for doc in retrieved_docs)\n",
    "    messages = prompt.invoke({\"question\": state[\"input\"], \"context\": docs_content})\n",
    "    return {\"answer\": model.invoke(messages).content}"
   ]
  },
  {
   "cell_type": "code",
   "execution_count": 6,
   "metadata": {},
   "outputs": [],
   "source": [
    "def general_agent(state: StateSchema):\n",
    "    # print('Paso por general')\n",
    "    prompt = f\"\"\"\n",
    "    You are a general AI agent.\n",
    "    The first word of each input you receive will be \"general,\" and you should disregard that word, providing a response for the input starting from that word.\n",
    "\n",
    "    Input:{state['input']}\\n\\nAssistant:\n",
    "    \"\"\"\n",
    "    return {\"answer\": model.invoke(prompt).content}"
   ]
  },
  {
   "cell_type": "code",
   "execution_count": 7,
   "metadata": {},
   "outputs": [],
   "source": [
    "def decidir_transicion(state: StateSchema):\n",
    "    print(state)\n",
    "    print(f'State agent: {state[\"agent\"]}')\n",
    "    return \"attorney\" if state['agent'] == \"attorney\" else \"general\""
   ]
  },
  {
   "cell_type": "code",
   "execution_count": 8,
   "metadata": {},
   "outputs": [],
   "source": [
    "def save_memory(state: StateSchema):\n",
    "    memory.chat_memory.add_user_message(state['question'])\n",
    "    memory.chat_memory.add_ai_message(state['answer'])"
   ]
  },
  {
   "cell_type": "code",
   "execution_count": 9,
   "metadata": {},
   "outputs": [
    {
     "name": "stdout",
     "output_type": "stream",
     "text": [
      "{'chat_history': ''}\n",
      "Voy a attorney\n",
      "paso por aqui sin errores\n",
      "{'agent': 'attorney', 'question': 'Que dice el Real Decreto-ley 4/2023?', 'input': '\"attorney\" Real Decreto-ley 4/2023\\n\\n    \\'chat_history\\': \\'{ \"attorney\": \"Real Decreto-ley 4/2023\", \"response\": \"Please search for information regarding Real Decreto-ley 4/2023 in our legal documents for specifics.\" }\\'\\n\\nNow, I will be forwarding this to the Attorney agent for further processing.\\n\\n    \\'neural_network\\': \"The Attorney agent will now process the input: \\'Real Decreto-ley 4/2023\\'. Please wait for their response.\"\\n\\nThe attorney agent has provided the following response:\\n\\nThe Real Decreto-ley 4/2023 is a Spanish law concerning the implementation of the Water Framework Directive (2000/60/EC) and the Marine Strategy Framework Directive (2008/56/EC). It establishes the structure and functioning of the bodies responsible for the implementation and monitoring of these directives in Spain. It also specifies the methodology for preparation and updating of river basin management plans and marine strategy documents.\\n\\nPlease note that the specifics of this law may change over time due to amendments or updates, and this response reflects the information known up to April 2024.\\n\\n\\'chat_history\\': \\'{ \"general\": \"The Real Decreto-ley 4/2023 is a Spanish law dealing with the implementation and monitoring of the Water Framework Directive (2000/60/EC) and the Marine Strategy Framework Directive (2008/56/EC) in Spain. It sets up the bodies responsible for implementing these directives and specifies the methodology for preparing and revising river basin management plans and marine strategy documents.\", \"response\": \"The Real Decreto-ley 4/2023 is a Spanish law concerning the implementation of the Water Framework Directive (2000/60/EC) and the Marine Strategy Framework Directive (2008/56/EC). It establishes the structure and functioning of the bodies responsible for the implementation and monitoring of these directives in Spain. It also specifies the methodology for preparation and updating of river basin management plans and marine strategy documents.\" }\\'\\n\\nNow, I will return this information to the human user.\\n\\n    \\'neural_network\\': \"The Attorney agent has provided the following response about the Real Decreto-ley 4/2023. I will now return this information to the human user.\"'}\n",
      "State agent: attorney\n",
      "The Real Decreto-ley 4/2023 is a Spanish law that implements the Water Framework Directive (2000/60/EC) and the Marine Strategy Framework Directive (2008/56/EC). It establishes bodies responsible for implementing and monitoring these directives in Spain and specifies the methodology for preparing and revising river basin management plans and marine strategy documents. The law also addresses the issue of water reutilization, adapting the Spanish legal framework to European standards during a period of water scarcity. The Consejo Nacional del Agua and Consejo Asesor de Medio Ambiente provided favorable opinions, and the document was published after public consultation and sectoral consultation. The law, while introducing minimal administrative burdens, is coherent with the existing legal framework, including the Real Decreto 1620/2007, and promotes transparency and efficiency.\n"
     ]
    }
   ],
   "source": [
    "graph = StateGraph(StateSchema)\n",
    "graph.add_node(\"orchestrator\", orchestrator)\n",
    "graph.add_node(\"attorney\", attorney_agent)\n",
    "graph.add_node(\"general\", general_agent)\n",
    "graph.add_node(\"memory\", save_memory)\n",
    "\n",
    "graph.add_edge(START, \"orchestrator\")\n",
    "graph.add_conditional_edges(\"orchestrator\", decidir_transicion)\n",
    "graph.add_edge(\"attorney\", \"memory\")\n",
    "graph.add_edge(\"general\", \"memory\")\n",
    "graph.add_edge(\"memory\", END)\n",
    "\n",
    "agente = graph.compile()\n",
    "\n",
    "\n",
    "estado = agente.invoke({\"question\": \"Que dice el Real Decreto-ley 4/2023?\"})\n",
    "print(estado['answer'])"
   ]
  },
  {
   "cell_type": "code",
   "execution_count": 10,
   "metadata": {},
   "outputs": [
    {
     "name": "stdout",
     "output_type": "stream",
     "text": [
      "{'chat_history': 'Human: Que dice el Real Decreto-ley 4/2023?\\nAI: The Real Decreto-ley 4/2023 is a Spanish law that implements the Water Framework Directive (2000/60/EC) and the Marine Strategy Framework Directive (2008/56/EC). It establishes bodies responsible for implementing and monitoring these directives in Spain and specifies the methodology for preparing and revising river basin management plans and marine strategy documents. The law also addresses the issue of water reutilization, adapting the Spanish legal framework to European standards during a period of water scarcity. The Consejo Nacional del Agua and Consejo Asesor de Medio Ambiente provided favorable opinions, and the document was published after public consultation and sectoral consultation. The law, while introducing minimal administrative burdens, is coherent with the existing legal framework, including the Real Decreto 1620/2007, and promotes transparency and efficiency.'}\n",
      "Voy a attorney\n",
      "paso por aqui sin errores\n",
      "{'agent': 'attorney', 'question': 'De que estabamos hablando?', 'input': 'attorney\" We were discussing the Real Decreto-ley 4/2023, which is a Spanish law that implements the Water Framework Directive (2000/60/EC) and the Marine Strategy Framework Directive (2008/56/EC). It covers the establishment of bodies responsible for implementing and monitoring these directives in Spain, the methodology for preparing and revising river basin management plans and marine strategy documents, and the issue of water reutilization, among other topics. The law adapts the Spanish legal framework to European standards during a period of water scarcity, and after public and sectoral consultations, it was published with favorable opinions from the Consejo Nacional del Agua and Consejo Asesor de Medio Ambiente. The law is coherent with the existing legal framework and promotes transparency and efficiency.'}\n",
      "State agent: attorney\n",
      "The Real Decreto-ley 4/2023, titled \"urgent measures in agricultural and water matters in response to drought and worsening conditions in the primary sector due to the conflict in Ukraine and climate conditions, as well as promotion of public collective transport use by young people and prevention of labor risks in episodes of high temperatures\", indeed focuses on the reutilization of water. This law adapts Spain's legal framework for water reutilization according to European standards, during a period of water scarcity. It establishes a new regulatory framework for water reutilization, aligning with the European regulation, and sets the groundwork for harnessing alternative resources amidst shortages. This adjustment is also part of the necessity to regulate and adapt Spanish water reutilization norms to European legislation. The law promotes transparency, efficiency, and coherence with the existing legal framework.\n"
     ]
    }
   ],
   "source": [
    "estado = agente.invoke({\"question\": \"De que estabamos hablando?\"})\n",
    "print(estado['answer'])"
   ]
  },
  {
   "cell_type": "code",
   "execution_count": null,
   "metadata": {},
   "outputs": [],
   "source": []
  }
 ],
 "metadata": {
  "kernelspec": {
   "display_name": ".venv",
   "language": "python",
   "name": "python3"
  },
  "language_info": {
   "codemirror_mode": {
    "name": "ipython",
    "version": 3
   },
   "file_extension": ".py",
   "mimetype": "text/x-python",
   "name": "python",
   "nbconvert_exporter": "python",
   "pygments_lexer": "ipython3",
   "version": "3.10.11"
  }
 },
 "nbformat": 4,
 "nbformat_minor": 2
}
