{
 "cells": [
  {
   "cell_type": "code",
   "execution_count": 2,
   "id": "7828dbaf",
   "metadata": {},
   "outputs": [],
   "source": [
    "%%capture\n",
    "%pip install -r ./requirements.txt"
   ]
  },
  {
   "cell_type": "code",
   "execution_count": 33,
   "id": "initial_id",
   "metadata": {
    "ExecuteTime": {
     "end_time": "2025-03-24T20:23:17.190545Z",
     "start_time": "2025-03-24T20:23:09.384530Z"
    },
    "collapsed": true
   },
   "outputs": [],
   "source": [
    "import os\n",
    "import re\n",
    "from dotenv import load_dotenv\n",
    "from ibm_watson_machine_learning.foundation_models import Model\n",
    "from ibm_watson_machine_learning.metanames import GenTextParamsMetaNames as MetaNames\n",
    "from langgraph.graph import StateGraph, START, END, MessagesState\n",
    "from typing import TypedDict"
   ]
  },
  {
   "cell_type": "code",
   "execution_count": 2,
   "id": "a9d60872b78226c",
   "metadata": {
    "ExecuteTime": {
     "end_time": "2025-03-24T20:27:43.185430Z",
     "start_time": "2025-03-24T20:27:41.483031Z"
    }
   },
   "outputs": [
    {
     "name": "stdout",
     "output_type": "stream",
     "text": [
      "Collecting langchain-ibm\n",
      "  Using cached langchain_ibm-0.3.8-py3-none-any.whl.metadata (5.2 kB)\n",
      "Collecting ibm-watsonx-ai<2.0.0,>=1.2.10 (from langchain-ibm)\n",
      "  Using cached ibm_watsonx_ai-1.3.1-py3-none-any.whl.metadata (6.5 kB)\n",
      "Requirement already satisfied: langchain-core<0.4,>=0.3.0 in c:\\users\\ilias\\onedrive\\documentos\\universidad\\segundo año\\ibm_challenge_ods6\\.venv\\lib\\site-packages (from langchain-ibm) (0.3.48)\n",
      "Requirement already satisfied: requests in c:\\users\\ilias\\onedrive\\documentos\\universidad\\segundo año\\ibm_challenge_ods6\\.venv\\lib\\site-packages (from ibm-watsonx-ai<2.0.0,>=1.2.10->langchain-ibm) (2.32.2)\n",
      "Requirement already satisfied: httpx<0.29,>=0.27 in c:\\users\\ilias\\onedrive\\documentos\\universidad\\segundo año\\ibm_challenge_ods6\\.venv\\lib\\site-packages (from ibm-watsonx-ai<2.0.0,>=1.2.10->langchain-ibm) (0.28.1)\n",
      "Requirement already satisfied: urllib3 in c:\\users\\ilias\\onedrive\\documentos\\universidad\\segundo año\\ibm_challenge_ods6\\.venv\\lib\\site-packages (from ibm-watsonx-ai<2.0.0,>=1.2.10->langchain-ibm) (2.3.0)\n",
      "Requirement already satisfied: pandas<2.3.0,>=0.24.2 in c:\\users\\ilias\\onedrive\\documentos\\universidad\\segundo año\\ibm_challenge_ods6\\.venv\\lib\\site-packages (from ibm-watsonx-ai<2.0.0,>=1.2.10->langchain-ibm) (2.1.4)\n",
      "Requirement already satisfied: certifi in c:\\users\\ilias\\onedrive\\documentos\\universidad\\segundo año\\ibm_challenge_ods6\\.venv\\lib\\site-packages (from ibm-watsonx-ai<2.0.0,>=1.2.10->langchain-ibm) (2025.1.31)\n",
      "Requirement already satisfied: lomond in c:\\users\\ilias\\onedrive\\documentos\\universidad\\segundo año\\ibm_challenge_ods6\\.venv\\lib\\site-packages (from ibm-watsonx-ai<2.0.0,>=1.2.10->langchain-ibm) (0.3.3)\n",
      "Requirement already satisfied: tabulate in c:\\users\\ilias\\onedrive\\documentos\\universidad\\segundo año\\ibm_challenge_ods6\\.venv\\lib\\site-packages (from ibm-watsonx-ai<2.0.0,>=1.2.10->langchain-ibm) (0.9.0)\n",
      "Requirement already satisfied: packaging in c:\\users\\ilias\\onedrive\\documentos\\universidad\\segundo año\\ibm_challenge_ods6\\.venv\\lib\\site-packages (from ibm-watsonx-ai<2.0.0,>=1.2.10->langchain-ibm) (24.2)\n",
      "Requirement already satisfied: ibm-cos-sdk<2.15.0,>=2.12.0 in c:\\users\\ilias\\onedrive\\documentos\\universidad\\segundo año\\ibm_challenge_ods6\\.venv\\lib\\site-packages (from ibm-watsonx-ai<2.0.0,>=1.2.10->langchain-ibm) (2.13.6)\n",
      "Requirement already satisfied: importlib-metadata in c:\\users\\ilias\\onedrive\\documentos\\universidad\\segundo año\\ibm_challenge_ods6\\.venv\\lib\\site-packages (from ibm-watsonx-ai<2.0.0,>=1.2.10->langchain-ibm) (8.6.1)\n",
      "Requirement already satisfied: langsmith<0.4,>=0.1.125 in c:\\users\\ilias\\onedrive\\documentos\\universidad\\segundo año\\ibm_challenge_ods6\\.venv\\lib\\site-packages (from langchain-core<0.4,>=0.3.0->langchain-ibm) (0.3.18)\n",
      "Requirement already satisfied: tenacity!=8.4.0,<10.0.0,>=8.1.0 in c:\\users\\ilias\\onedrive\\documentos\\universidad\\segundo año\\ibm_challenge_ods6\\.venv\\lib\\site-packages (from langchain-core<0.4,>=0.3.0->langchain-ibm) (9.0.0)\n",
      "Requirement already satisfied: jsonpatch<2.0,>=1.33 in c:\\users\\ilias\\onedrive\\documentos\\universidad\\segundo año\\ibm_challenge_ods6\\.venv\\lib\\site-packages (from langchain-core<0.4,>=0.3.0->langchain-ibm) (1.33)\n",
      "Requirement already satisfied: PyYAML>=5.3 in c:\\users\\ilias\\onedrive\\documentos\\universidad\\segundo año\\ibm_challenge_ods6\\.venv\\lib\\site-packages (from langchain-core<0.4,>=0.3.0->langchain-ibm) (6.0.2)\n",
      "Requirement already satisfied: typing-extensions>=4.7 in c:\\users\\ilias\\onedrive\\documentos\\universidad\\segundo año\\ibm_challenge_ods6\\.venv\\lib\\site-packages (from langchain-core<0.4,>=0.3.0->langchain-ibm) (4.12.2)\n",
      "Requirement already satisfied: pydantic<3.0.0,>=2.5.2 in c:\\users\\ilias\\onedrive\\documentos\\universidad\\segundo año\\ibm_challenge_ods6\\.venv\\lib\\site-packages (from langchain-core<0.4,>=0.3.0->langchain-ibm) (2.10.6)\n",
      "Requirement already satisfied: anyio in c:\\users\\ilias\\onedrive\\documentos\\universidad\\segundo año\\ibm_challenge_ods6\\.venv\\lib\\site-packages (from httpx<0.29,>=0.27->ibm-watsonx-ai<2.0.0,>=1.2.10->langchain-ibm) (4.9.0)\n",
      "Requirement already satisfied: httpcore==1.* in c:\\users\\ilias\\onedrive\\documentos\\universidad\\segundo año\\ibm_challenge_ods6\\.venv\\lib\\site-packages (from httpx<0.29,>=0.27->ibm-watsonx-ai<2.0.0,>=1.2.10->langchain-ibm) (1.0.7)\n",
      "Requirement already satisfied: idna in c:\\users\\ilias\\onedrive\\documentos\\universidad\\segundo año\\ibm_challenge_ods6\\.venv\\lib\\site-packages (from httpx<0.29,>=0.27->ibm-watsonx-ai<2.0.0,>=1.2.10->langchain-ibm) (3.10)\n",
      "Requirement already satisfied: h11<0.15,>=0.13 in c:\\users\\ilias\\onedrive\\documentos\\universidad\\segundo año\\ibm_challenge_ods6\\.venv\\lib\\site-packages (from httpcore==1.*->httpx<0.29,>=0.27->ibm-watsonx-ai<2.0.0,>=1.2.10->langchain-ibm) (0.14.0)\n",
      "Requirement already satisfied: ibm-cos-sdk-core==2.13.6 in c:\\users\\ilias\\onedrive\\documentos\\universidad\\segundo año\\ibm_challenge_ods6\\.venv\\lib\\site-packages (from ibm-cos-sdk<2.15.0,>=2.12.0->ibm-watsonx-ai<2.0.0,>=1.2.10->langchain-ibm) (2.13.6)\n",
      "Requirement already satisfied: ibm-cos-sdk-s3transfer==2.13.6 in c:\\users\\ilias\\onedrive\\documentos\\universidad\\segundo año\\ibm_challenge_ods6\\.venv\\lib\\site-packages (from ibm-cos-sdk<2.15.0,>=2.12.0->ibm-watsonx-ai<2.0.0,>=1.2.10->langchain-ibm) (2.13.6)\n",
      "Requirement already satisfied: jmespath<=1.0.1,>=0.10.0 in c:\\users\\ilias\\onedrive\\documentos\\universidad\\segundo año\\ibm_challenge_ods6\\.venv\\lib\\site-packages (from ibm-cos-sdk<2.15.0,>=2.12.0->ibm-watsonx-ai<2.0.0,>=1.2.10->langchain-ibm) (1.0.1)\n",
      "Requirement already satisfied: python-dateutil<3.0.0,>=2.9.0 in c:\\users\\ilias\\onedrive\\documentos\\universidad\\segundo año\\ibm_challenge_ods6\\.venv\\lib\\site-packages (from ibm-cos-sdk-core==2.13.6->ibm-cos-sdk<2.15.0,>=2.12.0->ibm-watsonx-ai<2.0.0,>=1.2.10->langchain-ibm) (2.9.0.post0)\n",
      "Requirement already satisfied: jsonpointer>=1.9 in c:\\users\\ilias\\onedrive\\documentos\\universidad\\segundo año\\ibm_challenge_ods6\\.venv\\lib\\site-packages (from jsonpatch<2.0,>=1.33->langchain-core<0.4,>=0.3.0->langchain-ibm) (3.0.0)\n",
      "Requirement already satisfied: orjson<4.0.0,>=3.9.14 in c:\\users\\ilias\\onedrive\\documentos\\universidad\\segundo año\\ibm_challenge_ods6\\.venv\\lib\\site-packages (from langsmith<0.4,>=0.1.125->langchain-core<0.4,>=0.3.0->langchain-ibm) (3.10.16)\n",
      "Requirement already satisfied: requests-toolbelt<2.0.0,>=1.0.0 in c:\\users\\ilias\\onedrive\\documentos\\universidad\\segundo año\\ibm_challenge_ods6\\.venv\\lib\\site-packages (from langsmith<0.4,>=0.1.125->langchain-core<0.4,>=0.3.0->langchain-ibm) (1.0.0)\n",
      "Requirement already satisfied: zstandard<0.24.0,>=0.23.0 in c:\\users\\ilias\\onedrive\\documentos\\universidad\\segundo año\\ibm_challenge_ods6\\.venv\\lib\\site-packages (from langsmith<0.4,>=0.1.125->langchain-core<0.4,>=0.3.0->langchain-ibm) (0.23.0)\n",
      "Requirement already satisfied: numpy<2,>=1.22.4 in c:\\users\\ilias\\onedrive\\documentos\\universidad\\segundo año\\ibm_challenge_ods6\\.venv\\lib\\site-packages (from pandas<2.3.0,>=0.24.2->ibm-watsonx-ai<2.0.0,>=1.2.10->langchain-ibm) (1.26.4)\n",
      "Requirement already satisfied: pytz>=2020.1 in c:\\users\\ilias\\onedrive\\documentos\\universidad\\segundo año\\ibm_challenge_ods6\\.venv\\lib\\site-packages (from pandas<2.3.0,>=0.24.2->ibm-watsonx-ai<2.0.0,>=1.2.10->langchain-ibm) (2025.1)\n",
      "Requirement already satisfied: tzdata>=2022.1 in c:\\users\\ilias\\onedrive\\documentos\\universidad\\segundo año\\ibm_challenge_ods6\\.venv\\lib\\site-packages (from pandas<2.3.0,>=0.24.2->ibm-watsonx-ai<2.0.0,>=1.2.10->langchain-ibm) (2025.2)\n",
      "Requirement already satisfied: annotated-types>=0.6.0 in c:\\users\\ilias\\onedrive\\documentos\\universidad\\segundo año\\ibm_challenge_ods6\\.venv\\lib\\site-packages (from pydantic<3.0.0,>=2.5.2->langchain-core<0.4,>=0.3.0->langchain-ibm) (0.7.0)\n",
      "Requirement already satisfied: pydantic-core==2.27.2 in c:\\users\\ilias\\onedrive\\documentos\\universidad\\segundo año\\ibm_challenge_ods6\\.venv\\lib\\site-packages (from pydantic<3.0.0,>=2.5.2->langchain-core<0.4,>=0.3.0->langchain-ibm) (2.27.2)\n",
      "Requirement already satisfied: charset-normalizer<4,>=2 in c:\\users\\ilias\\onedrive\\documentos\\universidad\\segundo año\\ibm_challenge_ods6\\.venv\\lib\\site-packages (from requests->ibm-watsonx-ai<2.0.0,>=1.2.10->langchain-ibm) (3.4.1)\n",
      "Requirement already satisfied: zipp>=3.20 in c:\\users\\ilias\\onedrive\\documentos\\universidad\\segundo año\\ibm_challenge_ods6\\.venv\\lib\\site-packages (from importlib-metadata->ibm-watsonx-ai<2.0.0,>=1.2.10->langchain-ibm) (3.21.0)\n",
      "Requirement already satisfied: six>=1.10.0 in c:\\users\\ilias\\onedrive\\documentos\\universidad\\segundo año\\ibm_challenge_ods6\\.venv\\lib\\site-packages (from lomond->ibm-watsonx-ai<2.0.0,>=1.2.10->langchain-ibm) (1.17.0)\n",
      "Requirement already satisfied: exceptiongroup>=1.0.2 in c:\\users\\ilias\\onedrive\\documentos\\universidad\\segundo año\\ibm_challenge_ods6\\.venv\\lib\\site-packages (from anyio->httpx<0.29,>=0.27->ibm-watsonx-ai<2.0.0,>=1.2.10->langchain-ibm) (1.2.2)\n",
      "Requirement already satisfied: sniffio>=1.1 in c:\\users\\ilias\\onedrive\\documentos\\universidad\\segundo año\\ibm_challenge_ods6\\.venv\\lib\\site-packages (from anyio->httpx<0.29,>=0.27->ibm-watsonx-ai<2.0.0,>=1.2.10->langchain-ibm) (1.3.1)\n",
      "Using cached langchain_ibm-0.3.8-py3-none-any.whl (27 kB)\n",
      "Using cached ibm_watsonx_ai-1.3.1-py3-none-any.whl (1.1 MB)\n",
      "Installing collected packages: ibm-watsonx-ai, langchain-ibm\n",
      "  Attempting uninstall: ibm-watsonx-ai\n",
      "    Found existing installation: ibm-watsonx-ai 0.0.5\n",
      "    Uninstalling ibm-watsonx-ai-0.0.5:\n",
      "      Successfully uninstalled ibm-watsonx-ai-0.0.5\n",
      "Successfully installed ibm-watsonx-ai-1.3.1 langchain-ibm-0.3.8\n"
     ]
    }
   ],
   "source": [
    "#!pip install --upgrade pip\n",
    "!pip install langchain-ibm"
   ]
  },
  {
   "cell_type": "code",
   "execution_count": 43,
   "id": "9de2d3ab3e6d681a",
   "metadata": {
    "ExecuteTime": {
     "end_time": "2025-03-24T20:23:22.504376Z",
     "start_time": "2025-03-24T20:23:17.200548Z"
    }
   },
   "outputs": [],
   "source": [
    "from langchain_ibm import ChatWatsonx\n",
    "\n",
    "load_dotenv()\n",
    "model_id = \"ibm/granite-34b-code-instruct\"\n",
    "credentials = {\n",
    "    \"apikey\": os.getenv(\"WATSONX_API_KEY\"),\n",
    "    \"url\": \"https://us-south.ml.cloud.ibm.com\"\n",
    "}\n",
    "\n",
    "model = ChatWatsonx(\n",
    "    model_id=model_id,\n",
    "    apikey=os.getenv(\"WATSONX_API_KEY\"),\n",
    "    url= \"https://us-south.ml.cloud.ibm.com\",\n",
    "    project_id=os.getenv(\"WATSONX_PROJECT_ID\")\n",
    ")"
   ]
  },
  {
   "cell_type": "code",
   "execution_count": null,
   "id": "44e98bbb5aa26906",
   "metadata": {
    "ExecuteTime": {
     "end_time": "2025-03-24T20:23:26.371711Z",
     "start_time": "2025-03-24T20:23:25.705664Z"
    }
   },
   "outputs": [],
   "source": [
    "import getpass\n",
    "import os\n",
    "from langchain_ibm import WatsonxEmbeddings\n",
    "\n",
    "embeddings = WatsonxEmbeddings(\n",
    "    model_id=\"ibm/slate-125m-english-rtrvr\",\n",
    "    apikey=os.getenv(\"WATSONX_API_KEY\"),\n",
    "    url=\"https://us-south.ml.cloud.ibm.com\",\n",
    "    project_id=os.getenv(\"WATSONX_PROJECT_ID\")\n",
    ")"
   ]
  },
  {
   "cell_type": "code",
   "execution_count": null,
   "id": "a9f153be",
   "metadata": {},
   "outputs": [],
   "source": [
    "!pip install faiss-cpu"
   ]
  },
  {
   "cell_type": "code",
   "execution_count": 10,
   "id": "00813aa9",
   "metadata": {},
   "outputs": [],
   "source": [
    "%%capture\n",
    "!pip install -qU langchain-community\n",
    "\n"
   ]
  },
  {
   "cell_type": "code",
   "execution_count": 11,
   "id": "f2fc5e07",
   "metadata": {},
   "outputs": [],
   "source": [
    "import faiss\n",
    "from langchain_community.docstore.in_memory import InMemoryDocstore\n",
    "from langchain_community.vectorstores import FAISS\n",
    "\n",
    "embedding_dim = len(embeddings.embed_query(\"hello world\"))\n",
    "index = faiss.IndexFlatL2(embedding_dim)\n",
    "\n",
    "vector_store = FAISS(\n",
    "    embedding_function=embeddings,\n",
    "    index=index,\n",
    "    docstore=InMemoryDocstore(),\n",
    "    index_to_docstore_id={},\n",
    ")"
   ]
  },
  {
   "cell_type": "markdown",
   "id": "61d356a4",
   "metadata": {},
   "source": [
    "# Leemos los PDFs con langchain"
   ]
  },
  {
   "cell_type": "code",
   "execution_count": 17,
   "id": "d8aef38c",
   "metadata": {},
   "outputs": [],
   "source": [
    "%%capture\n",
    "!pip install Pillow\n",
    "\n"
   ]
  },
  {
   "cell_type": "code",
   "execution_count": null,
   "id": "37f28226",
   "metadata": {},
   "outputs": [],
   "source": [
    "%%capture\n",
    "!pip install pypdf"
   ]
  },
  {
   "cell_type": "code",
   "execution_count": 20,
   "id": "e2f521eb",
   "metadata": {},
   "outputs": [
    {
     "name": "stdout",
     "output_type": "stream",
     "text": [
      "Loaded 7 pages from hoja_infor_sol_extraccion_aridos.pdf\n",
      "First page content preview: MINISTERIO \n",
      "PAR A LA  TRANSICIÓN ECOLÓGICA\n",
      "CONFEDERACIÓN  \n",
      "HIDROGRÁFICA DEL \n",
      "CANTÁBRICO, O.A. \n",
      "COMISARÍA DE AGUAS \n",
      "HOJA INFORMATIVA PARA CUMPLIMENTAR LA SOLICITUD DE \n",
      "AUTORIZACIÓN PARA LA EXTRACCIÓN D\n",
      "Loaded 102 pages from 12informediagnostico_esp_tcm30-543628.pdf\n",
      "First page content preview: Guía para las decisiones \n",
      "estratégicas sobre la \n",
      "colaboración público-privada en \n",
      "la gestión de las plantas de aguas \n",
      "residuales \n",
      " \n",
      " \n",
      "Diagnóstico de políticas en el tratamiento de aguas \n",
      "residuales a \n",
      "Loaded 52 pages from BOE-A-2024-21701.pdf\n",
      "First page content preview: I. DISPOSICIONES GENERALES\n",
      "MINISTERIO DE LA PRESIDENCIA, JUSTICIA\n",
      "Y RELACIONES CON LAS CORTES\n",
      "21701 Real Decreto 1085/2024, de 22 de octubre, por el que se aprueba el \n",
      "Reglamento de reutilización del \n"
     ]
    }
   ],
   "source": [
    "from langchain_community.document_loaders import PyPDFLoader\n",
    "from langchain_community.document_loaders.pdf import PyPDFLoader\n",
    "import traceback\n",
    "\n",
    "def safe_pdf_loader(file_path, extract_images=False):\n",
    "    \"\"\"\n",
    "    Safely load PDF documents with optional image extraction\n",
    "    \n",
    "    Args:\n",
    "        file_path (str): Path to the PDF file\n",
    "        extract_images (bool): Whether to extract images (default: False)\n",
    "    \n",
    "    Returns:\n",
    "        list: Loaded document pages\n",
    "    \"\"\"\n",
    "    try:\n",
    "        # Disable image extraction to avoid processing issues\n",
    "        loader = PyPDFLoader(\n",
    "            file_path=file_path,\n",
    "            extract_images=extract_images\n",
    "        )\n",
    "        \n",
    "        docs = list(loader.lazy_load())\n",
    "        \n",
    "        if docs:\n",
    "            print(f\"Loaded {len(docs)} pages from {file_path}\")\n",
    "            print(\"First page content preview:\", docs[0].page_content[:200])\n",
    "        \n",
    "        return docs\n",
    "    \n",
    "    except Exception as e:\n",
    "        print(f\"Error loading PDF {file_path}: {e}\")\n",
    "        traceback.print_exc()\n",
    "        return []\n",
    "\n",
    "# List of PDF files to load\n",
    "pdf_files = [\n",
    "    \"hoja_infor_sol_extraccion_aridos.pdf\",\n",
    "    \"12informediagnostico_esp_tcm30-543628.pdf\", \n",
    "    \"BOE-A-2024-21701.pdf\"\n",
    "]\n",
    "\n",
    "# Load PDFs\n",
    "all_docs = []\n",
    "for pdf_file in pdf_files:\n",
    "    docs = safe_pdf_loader(pdf_file, extract_images=False)\n",
    "    all_docs.extend(docs)"
   ]
  },
  {
   "cell_type": "code",
   "execution_count": 21,
   "id": "99e336d3",
   "metadata": {},
   "outputs": [
    {
     "name": "stdout",
     "output_type": "stream",
     "text": [
      "Split blog post into 231 sub-documents.\n"
     ]
    }
   ],
   "source": [
    "from langchain_text_splitters import RecursiveCharacterTextSplitter\n",
    "\n",
    "text_splitter = RecursiveCharacterTextSplitter(\n",
    "    chunk_size=1000,  # chunk size (characters)\n",
    "    chunk_overlap=200,  # chunk overlap (characters)\n",
    "    add_start_index=True,  # track index in original document\n",
    ")\n",
    "all_splits = text_splitter.split_documents(docs)\n",
    "\n",
    "print(f\"Split blog post into {len(all_splits)} sub-documents.\")"
   ]
  },
  {
   "cell_type": "code",
   "execution_count": 22,
   "id": "63fc3011",
   "metadata": {},
   "outputs": [
    {
     "name": "stdout",
     "output_type": "stream",
     "text": [
      "['020743bf-dd0f-4de1-90a3-12fc1e5ef803', 'fa221b73-be50-4fe5-b29d-2de6612cc57e', 'c4a1ce2f-9662-4ff8-b257-9da68b52ba82']\n"
     ]
    }
   ],
   "source": [
    "document_ids = vector_store.add_documents(documents=all_splits)\n",
    "\n",
    "print(document_ids[:3])"
   ]
  },
  {
   "cell_type": "code",
   "execution_count": 23,
   "id": "b00c371e",
   "metadata": {},
   "outputs": [
    {
     "name": "stderr",
     "output_type": "stream",
     "text": [
      "c:\\Users\\ilias\\OneDrive\\Documentos\\UNIVERSIDAD\\SEGUNDO AÑO\\IBM_Challenge_ODS6\\.venv\\lib\\site-packages\\langsmith\\client.py:277: LangSmithMissingAPIKeyWarning: API key must be provided when using hosted LangSmith API\n",
      "  warnings.warn(\n"
     ]
    },
    {
     "name": "stdout",
     "output_type": "stream",
     "text": [
      "You are an assistant for question-answering tasks. Use the following pieces of retrieved context to answer the question. If you don't know the answer, just say that you don't know. Use three sentences maximum and keep the answer concise.\n",
      "Question: (question goes here) \n",
      "Context: (context goes here) \n",
      "Answer:\n"
     ]
    }
   ],
   "source": [
    "from langchain import hub\n",
    "\n",
    "prompt = hub.pull(\"rlm/rag-prompt\")\n",
    "\n",
    "example_messages = prompt.invoke(\n",
    "    {\"context\": \"(context goes here)\", \"question\": \"(question goes here)\"}\n",
    ").to_messages()\n",
    "\n",
    "assert len(example_messages) == 1\n",
    "print(example_messages[0].content)"
   ]
  },
  {
   "cell_type": "markdown",
   "id": "a25b6f27",
   "metadata": {},
   "source": [
    "# Creamos el reatrive context"
   ]
  },
  {
   "cell_type": "code",
   "execution_count": 36,
   "id": "4b8f2922",
   "metadata": {},
   "outputs": [],
   "source": [
    "from langchain_core.documents import Document\n",
    "from typing_extensions import List, TypedDict\n",
    "\n",
    "\n",
    "class State(TypedDict):\n",
    "    question: str\n",
    "    context: List[Document]\n",
    "    answer: str\n",
    "def retrieve(state: State):\n",
    "    retrieved_docs = vector_store.similarity_search(state[\"question\"])\n",
    "    return {\"context\": retrieved_docs}\n",
    "\n",
    "\n",
    "def generate(state: State):\n",
    "    docs_content = \"\\n\\n\".join(doc.page_content for doc in state[\"context\"])\n",
    "    messages = prompt.invoke({\"question\": state[\"question\"], \"context\": docs_content})\n",
    "    response = model.invoke(messages)\n",
    "    return {\"answer\": response.content}"
   ]
  },
  {
   "cell_type": "code",
   "execution_count": 37,
   "id": "d74b54dd",
   "metadata": {},
   "outputs": [],
   "source": [
    "from langgraph.graph import START, StateGraph\n",
    "\n",
    "graph_builder = StateGraph(State).add_sequence([retrieve, generate])\n",
    "graph_builder.add_edge(START, \"retrieve\")\n",
    "graph = graph_builder.compile()"
   ]
  },
  {
   "cell_type": "code",
   "execution_count": 38,
   "id": "6cebeae6",
   "metadata": {},
   "outputs": [
    {
     "data": {
      "image/png": "[encoded data removed]",
      "text/plain": [
       "<IPython.core.display.Image object>"
      ]
     },
     "metadata": {},
     "output_type": "display_data"
    }
   ],
   "source": [
    "from IPython.display import Image, display\n",
    "\n",
    "display(Image(graph.get_graph().draw_mermaid_png()))"
   ]
  },
  {
   "cell_type": "code",
   "execution_count": 45,
   "id": "7d9a9fef",
   "metadata": {},
   "outputs": [
    {
     "name": "stdout",
     "output_type": "stream",
     "text": [
      "Context: [Document(id='9921f079-0ec7-4c30-8d65-8928160fc5dd', metadata={'producer': 'Antenna House PDF Output Library 6.6.1477 (Linux64)', 'creator': 'eBOE', 'creationdate': '2024-10-22T18:21:25+01:00', 'keywords': 'DECRETO 1085/2024 de 22/10/2024;\"MINISTERIO DE LA PRESIDENCIA, JUSTICIA Y RELACIONES CON LAS CORTES\";BOE-A-2024-21701;BOE 256 de 2024;21701;23/10/2024', 'moddate': '2024-10-22T18:44:21+02:00', 'trapped': '/False', 'subject': 'BOE-A-2024-21701', 'author': 'MINISTERIO DE LA PRESIDENCIA, JUSTICIA Y RELACIONES CON LAS CORTES', 'title': 'Disposición 21701 del BOE núm. 256 de 2024', 'source': 'BOE-A-2024-21701.pdf', 'total_pages': 52, 'page': 15, 'page_label': '16', 'start_index': 812}, page_content='cambios que se produzcan en la normativa de la Unión Europea o, en su caso, cuando lo \\naconsejen los cambios en las circunstancias medioambientales o los avances científicos \\no tecnológicos.\\nDisposición final quinta.\\u2003Entrada en vigor.\\nEl presente real decreto entrará en vigor el día siguiente al de su publicación en el \\n«Boletín Oficial del Estado».\\nDado en Madrid, el 22 de octubre de 2024.\\nFELIPE R.\\nEl Ministro de la Presidencia, Justicia y Relaciones con las Cortes,\\nFÉLIX BOLAÑOS GARCÍA\\nBOLETÍN OFICIAL DEL ESTADO\\nNúm. 256 Miércoles 23 de octubre de 2024 Sec. I.   Pág. 135424\\ncve: BOE-A-2024-21701\\nVerificable en https://www.boe.es'), Document(id='b0d91231-3356-4978-b88b-beb5752b5615', metadata={'producer': 'Antenna House PDF Output Library 6.6.1477 (Linux64)', 'creator': 'eBOE', 'creationdate': '2024-10-22T18:21:25+01:00', 'keywords': 'DECRETO 1085/2024 de 22/10/2024;\"MINISTERIO DE LA PRESIDENCIA, JUSTICIA Y RELACIONES CON LAS CORTES\";BOE-A-2024-21701;BOE 256 de 2024;21701;23/10/2024', 'moddate': '2024-10-22T18:44:21+02:00', 'trapped': '/False', 'subject': 'BOE-A-2024-21701', 'author': 'MINISTERIO DE LA PRESIDENCIA, JUSTICIA Y RELACIONES CON LAS CORTES', 'title': 'Disposición 21701 del BOE núm. 256 de 2024', 'source': 'BOE-A-2024-21701.pdf', 'total_pages': 52, 'page': 4, 'page_label': '5', 'start_index': 4010}, page_content='En virtud del principio de proporcionalidad, el real decreto contiene la regulación \\nnecesaria para atender la necesidad a cubrir, es decir, garantizar el uso seguro del agua \\nregenerada.\\nBOLETÍN OFICIAL DEL ESTADO\\nNúm. 256 Miércoles 23 de octubre de 2024 Sec. I.   Pág. 135413\\ncve: BOE-A-2024-21701\\nVerificable en https://www.boe.es'), Document(id='2b3aa582-c9af-4282-bcd1-eae872825f39', metadata={'producer': 'Antenna House PDF Output Library 6.6.1477 (Linux64)', 'creator': 'eBOE', 'creationdate': '2024-10-22T18:21:25+01:00', 'keywords': 'DECRETO 1085/2024 de 22/10/2024;\"MINISTERIO DE LA PRESIDENCIA, JUSTICIA Y RELACIONES CON LAS CORTES\";BOE-A-2024-21701;BOE 256 de 2024;21701;23/10/2024', 'moddate': '2024-10-22T18:44:21+02:00', 'trapped': '/False', 'subject': 'BOE-A-2024-21701', 'author': 'MINISTERIO DE LA PRESIDENCIA, JUSTICIA Y RELACIONES CON LAS CORTES', 'title': 'Disposición 21701 del BOE núm. 256 de 2024', 'source': 'BOE-A-2024-21701.pdf', 'total_pages': 52, 'page': 49, 'page_label': '50', 'start_index': 2420}, page_content='decir, su uso está condicionado al empleo de una barrera.\\n(**) Nota de la norma ISO 16075:2020: Semillas comestibles o semillas para siembra \\nque hayan sido regadas durante menos de 30 días antes de la cosecha. Si el período \\nanterior a la recolección es igual o superior a 30 días, la clase D puede ser directamente \\naplicable sin restricciones (es decir, sin necesidad de barreras adicionales).\\nBOLETÍN OFICIAL DEL ESTADO\\nNúm. 256 Miércoles 23 de octubre de 2024 Sec. I.   Pág. 135458\\ncve: BOE-A-2024-21701\\nVerificable en https://www.boe.es'), Document(id='0db44fae-6116-4cf6-a4d9-1c3208718c74', metadata={'producer': 'Antenna House PDF Output Library 6.6.1477 (Linux64)', 'creator': 'eBOE', 'creationdate': '2024-10-22T18:21:25+01:00', 'keywords': 'DECRETO 1085/2024 de 22/10/2024;\"MINISTERIO DE LA PRESIDENCIA, JUSTICIA Y RELACIONES CON LAS CORTES\";BOE-A-2024-21701;BOE 256 de 2024;21701;23/10/2024', 'moddate': '2024-10-22T18:44:21+02:00', 'trapped': '/False', 'subject': 'BOE-A-2024-21701', 'author': 'MINISTERIO DE LA PRESIDENCIA, JUSTICIA Y RELACIONES CON LAS CORTES', 'title': 'Disposición 21701 del BOE núm. 256 de 2024', 'source': 'BOE-A-2024-21701.pdf', 'total_pages': 52, 'page': 8, 'page_label': '9', 'start_index': 3178}, page_content='acompañen a la declaración responsable o el incumplimiento de las previsiones \\nBOLETÍN OFICIAL DEL ESTADO\\nNúm. 256 Miércoles 23 de octubre de 2024 Sec. I.   Pág. 135417\\ncve: BOE-A-2024-21701\\nVerificable en https://www.boe.es')]\n",
      "\n",
      "\n",
      "Answer:  por ese irónico y desafiante motivo de que cada país, tenga su tradicional y de}{' su approvecho {'explotación {' Wall Street para la opresióndrug trafficking.\n"
     ]
    }
   ],
   "source": [
    "result = graph.invoke({\"question\": \"Que dice el Real Decreto-ley 4/2023?\"})\n",
    "\n",
    "print(f'Context: {result[\"context\"]}\\n\\n')\n",
    "print(f'Answer: {result[\"answer\"]}')"
   ]
  }
 ],
 "metadata": {
  "kernelspec": {
   "display_name": ".venv",
   "language": "python",
   "name": "python3"
  },
  "language_info": {
   "codemirror_mode": {
    "name": "ipython",
    "version": 3
   },
   "file_extension": ".py",
   "mimetype": "text/x-python",
   "name": "python",
   "nbconvert_exporter": "python",
   "pygments_lexer": "ipython3",
   "version": "3.10.11"
  }
 },
 "nbformat": 4,
 "nbformat_minor": 5
}
